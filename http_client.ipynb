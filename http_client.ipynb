{
 "cells": [
  {
   "cell_type": "code",
   "execution_count": 1,
   "id": "711732cf-a8da-450f-a133-ea4d2a896e52",
   "metadata": {},
   "outputs": [
    {
     "name": "stdout",
     "output_type": "stream",
     "text": [
      "Collecting tritonclient[all]\n",
      "  Downloading tritonclient-2.60.0-py3-none-manylinux1_x86_64.whl.metadata (2.8 kB)\n",
      "Requirement already satisfied: numpy>=1.19.1 in /opt/app-root/lib64/python3.11/site-packages (from tritonclient[all]) (1.26.4)\n",
      "Collecting python-rapidjson>=0.9.1 (from tritonclient[all])\n",
      "  Downloading python_rapidjson-1.21-cp311-cp311-manylinux_2_24_x86_64.manylinux_2_28_x86_64.whl.metadata (23 kB)\n",
      "Collecting urllib3>=2.0.7 (from tritonclient[all])\n",
      "  Downloading urllib3-2.5.0-py3-none-any.whl.metadata (6.5 kB)\n",
      "Requirement already satisfied: aiohttp<4.0.0,>=3.8.1 in /opt/app-root/lib64/python3.11/site-packages (from tritonclient[all]) (3.12.14)\n",
      "Collecting cuda-python (from tritonclient[all])\n",
      "  Downloading cuda_python-13.0.1-py3-none-any.whl.metadata (4.7 kB)\n",
      "Collecting geventhttpclient>=2.3.3 (from tritonclient[all])\n",
      "  Downloading geventhttpclient-2.3.4-cp311-cp311-manylinux1_x86_64.manylinux_2_28_x86_64.manylinux_2_5_x86_64.whl.metadata (8.4 kB)\n",
      "Collecting grpcio<1.68,>=1.63.0 (from tritonclient[all])\n",
      "  Downloading grpcio-1.67.1-cp311-cp311-manylinux_2_17_x86_64.manylinux2014_x86_64.whl.metadata (3.9 kB)\n",
      "Requirement already satisfied: packaging>=14.1 in /opt/app-root/lib64/python3.11/site-packages (from tritonclient[all]) (25.0)\n",
      "Collecting protobuf<6.0dev,>=5.26.1 (from tritonclient[all])\n",
      "  Downloading protobuf-5.29.5-cp38-abi3-manylinux2014_x86_64.whl.metadata (592 bytes)\n",
      "Requirement already satisfied: aiohappyeyeballs>=2.5.0 in /opt/app-root/lib64/python3.11/site-packages (from aiohttp<4.0.0,>=3.8.1->tritonclient[all]) (2.6.1)\n",
      "Requirement already satisfied: aiosignal>=1.4.0 in /opt/app-root/lib64/python3.11/site-packages (from aiohttp<4.0.0,>=3.8.1->tritonclient[all]) (1.4.0)\n",
      "Requirement already satisfied: attrs>=17.3.0 in /opt/app-root/lib64/python3.11/site-packages (from aiohttp<4.0.0,>=3.8.1->tritonclient[all]) (25.3.0)\n",
      "Requirement already satisfied: frozenlist>=1.1.1 in /opt/app-root/lib64/python3.11/site-packages (from aiohttp<4.0.0,>=3.8.1->tritonclient[all]) (1.7.0)\n",
      "Requirement already satisfied: multidict<7.0,>=4.5 in /opt/app-root/lib64/python3.11/site-packages (from aiohttp<4.0.0,>=3.8.1->tritonclient[all]) (6.6.3)\n",
      "Requirement already satisfied: propcache>=0.2.0 in /opt/app-root/lib64/python3.11/site-packages (from aiohttp<4.0.0,>=3.8.1->tritonclient[all]) (0.3.2)\n",
      "Requirement already satisfied: yarl<2.0,>=1.17.0 in /opt/app-root/lib64/python3.11/site-packages (from aiohttp<4.0.0,>=3.8.1->tritonclient[all]) (1.20.1)\n",
      "Collecting gevent (from geventhttpclient>=2.3.3->tritonclient[all])\n",
      "  Downloading gevent-25.9.1-cp311-cp311-manylinux2014_x86_64.manylinux_2_17_x86_64.whl.metadata (14 kB)\n",
      "Requirement already satisfied: certifi in /opt/app-root/lib64/python3.11/site-packages (from geventhttpclient>=2.3.3->tritonclient[all]) (2025.7.14)\n",
      "Collecting brotli (from geventhttpclient>=2.3.3->tritonclient[all])\n",
      "  Downloading Brotli-1.1.0-cp311-cp311-manylinux_2_17_x86_64.manylinux2014_x86_64.whl.metadata (5.5 kB)\n",
      "Collecting cuda-bindings~=13.0.1 (from cuda-python->tritonclient[all])\n",
      "  Downloading cuda_bindings-13.0.1-cp311-cp311-manylinux_2_24_x86_64.manylinux_2_28_x86_64.whl.metadata (2.7 kB)\n",
      "Collecting cuda-pathfinder~=1.1 (from cuda-python->tritonclient[all])\n",
      "  Downloading cuda_pathfinder-1.2.3-py3-none-any.whl.metadata (3.4 kB)\n",
      "Requirement already satisfied: typing-extensions>=4.2 in /opt/app-root/lib64/python3.11/site-packages (from aiosignal>=1.4.0->aiohttp<4.0.0,>=3.8.1->tritonclient[all]) (4.14.1)\n",
      "Requirement already satisfied: idna>=2.0 in /opt/app-root/lib64/python3.11/site-packages (from yarl<2.0,>=1.17.0->aiohttp<4.0.0,>=3.8.1->tritonclient[all]) (3.10)\n",
      "Collecting greenlet>=3.2.2 (from gevent->geventhttpclient>=2.3.3->tritonclient[all])\n",
      "  Downloading greenlet-3.2.4-cp311-cp311-manylinux_2_24_x86_64.manylinux_2_28_x86_64.whl.metadata (4.1 kB)\n",
      "Collecting zope.event (from gevent->geventhttpclient>=2.3.3->tritonclient[all])\n",
      "  Downloading zope_event-6.0-py3-none-any.whl.metadata (5.1 kB)\n",
      "Collecting zope.interface (from gevent->geventhttpclient>=2.3.3->tritonclient[all])\n",
      "  Downloading zope_interface-8.0.1-cp311-cp311-manylinux1_x86_64.manylinux2014_x86_64.manylinux_2_17_x86_64.manylinux_2_5_x86_64.whl.metadata (44 kB)\n",
      "Requirement already satisfied: setuptools>=75.8.2 in /opt/app-root/lib64/python3.11/site-packages (from zope.event->gevent->geventhttpclient>=2.3.3->tritonclient[all]) (78.1.1)\n",
      "Downloading geventhttpclient-2.3.4-cp311-cp311-manylinux1_x86_64.manylinux_2_28_x86_64.manylinux_2_5_x86_64.whl (114 kB)\n",
      "Downloading grpcio-1.67.1-cp311-cp311-manylinux_2_17_x86_64.manylinux2014_x86_64.whl (5.9 MB)\n",
      "\u001b[2K   \u001b[90m━━━━━━━━━━━━━━━━━━━━━━━━━━━━━━━━━━━━━━━━\u001b[0m \u001b[32m5.9/5.9 MB\u001b[0m \u001b[31m196.3 MB/s\u001b[0m eta \u001b[36m0:00:00\u001b[0m\n",
      "\u001b[?25hDownloading protobuf-5.29.5-cp38-abi3-manylinux2014_x86_64.whl (319 kB)\n",
      "Downloading python_rapidjson-1.21-cp311-cp311-manylinux_2_24_x86_64.manylinux_2_28_x86_64.whl (1.7 MB)\n",
      "\u001b[2K   \u001b[90m━━━━━━━━━━━━━━━━━━━━━━━━━━━━━━━━━━━━━━━━\u001b[0m \u001b[32m1.7/1.7 MB\u001b[0m \u001b[31m633.1 MB/s\u001b[0m eta \u001b[36m0:00:00\u001b[0m\n",
      "\u001b[?25hDownloading urllib3-2.5.0-py3-none-any.whl (129 kB)\n",
      "Downloading cuda_python-13.0.1-py3-none-any.whl (7.6 kB)\n",
      "Downloading tritonclient-2.60.0-py3-none-manylinux1_x86_64.whl (14.5 MB)\n",
      "\u001b[2K   \u001b[90m━━━━━━━━━━━━━━━━━━━━━━━━━━━━━━━━━━━━━━━━\u001b[0m \u001b[32m14.5/14.5 MB\u001b[0m \u001b[31m453.6 MB/s\u001b[0m eta \u001b[36m0:00:00\u001b[0m\n",
      "\u001b[?25hDownloading cuda_bindings-13.0.1-cp311-cp311-manylinux_2_24_x86_64.manylinux_2_28_x86_64.whl (12.8 MB)\n",
      "\u001b[2K   \u001b[90m━━━━━━━━━━━━━━━━━━━━━━━━━━━━━━━━━━━━━━━━\u001b[0m \u001b[32m12.8/12.8 MB\u001b[0m \u001b[31m335.3 MB/s\u001b[0m eta \u001b[36m0:00:00\u001b[0m\n",
      "\u001b[?25hDownloading cuda_pathfinder-1.2.3-py3-none-any.whl (26 kB)\n",
      "Downloading Brotli-1.1.0-cp311-cp311-manylinux_2_17_x86_64.manylinux2014_x86_64.whl (2.9 MB)\n",
      "\u001b[2K   \u001b[90m━━━━━━━━━━━━━━━━━━━━━━━━━━━━━━━━━━━━━━━━\u001b[0m \u001b[32m2.9/2.9 MB\u001b[0m \u001b[31m709.0 MB/s\u001b[0m eta \u001b[36m0:00:00\u001b[0m\n",
      "\u001b[?25hDownloading gevent-25.9.1-cp311-cp311-manylinux2014_x86_64.manylinux_2_17_x86_64.whl (2.1 MB)\n",
      "\u001b[2K   \u001b[90m━━━━━━━━━━━━━━━━━━━━━━━━━━━━━━━━━━━━━━━━\u001b[0m \u001b[32m2.1/2.1 MB\u001b[0m \u001b[31m174.0 MB/s\u001b[0m eta \u001b[36m0:00:00\u001b[0m\n",
      "\u001b[?25hDownloading greenlet-3.2.4-cp311-cp311-manylinux_2_24_x86_64.manylinux_2_28_x86_64.whl (587 kB)\n",
      "\u001b[2K   \u001b[90m━━━━━━━━━━━━━━━━━━━━━━━━━━━━━━━━━━━━━━━\u001b[0m \u001b[32m587.7/587.7 kB\u001b[0m \u001b[31m736.7 MB/s\u001b[0m eta \u001b[36m0:00:00\u001b[0m\n",
      "\u001b[?25hDownloading zope_event-6.0-py3-none-any.whl (6.4 kB)\n",
      "Downloading zope_interface-8.0.1-cp311-cp311-manylinux1_x86_64.manylinux2014_x86_64.manylinux_2_17_x86_64.manylinux_2_5_x86_64.whl (259 kB)\n",
      "Installing collected packages: brotli, zope.interface, zope.event, urllib3, python-rapidjson, protobuf, grpcio, greenlet, cuda-pathfinder, tritonclient, gevent, cuda-bindings, geventhttpclient, cuda-python\n",
      "  Attempting uninstall: urllib3\n",
      "    Found existing installation: urllib3 1.26.20\n",
      "    Uninstalling urllib3-1.26.20:\n",
      "      Successfully uninstalled urllib3-1.26.20\n",
      "  Attempting uninstall: protobuf\n",
      "    Found existing installation: protobuf 4.25.8\n",
      "    Uninstalling protobuf-4.25.8:\n",
      "      Successfully uninstalled protobuf-4.25.8\n",
      "  Attempting uninstall: grpcio\n",
      "    Found existing installation: grpcio 1.73.1\n",
      "    Uninstalling grpcio-1.73.1:\n",
      "      Successfully uninstalled grpcio-1.73.1\n",
      "\u001b[31mERROR: pip's dependency resolver does not currently take into account all the packages that are installed. This behaviour is the source of the following dependency conflicts.\n",
      "appengine-python-standard 1.1.10 requires urllib3<2,>=1.26.2, but you have urllib3 2.5.0 which is incompatible.\n",
      "kfp 2.12.2 requires protobuf<5,>=4.21.1, but you have protobuf 5.29.5 which is incompatible.\n",
      "kfp 2.12.2 requires urllib3<2.0.0, but you have urllib3 2.5.0 which is incompatible.\n",
      "kfp-kubernetes 1.5.0 requires protobuf<5,>=4.21.1, but you have protobuf 5.29.5 which is incompatible.\n",
      "kfp-pipeline-spec 0.6.0 requires protobuf<5,>=4.21.1, but you have protobuf 5.29.5 which is incompatible.\n",
      "opentelemetry-proto 1.27.0 requires protobuf<5.0,>=3.19, but you have protobuf 5.29.5 which is incompatible.\n",
      "tf2onnx 1.16.1 requires protobuf~=3.20, but you have protobuf 5.29.5 which is incompatible.\u001b[0m\u001b[31m\n",
      "\u001b[0mSuccessfully installed brotli-1.1.0 cuda-bindings-13.0.1 cuda-pathfinder-1.2.3 cuda-python-13.0.1 gevent-25.9.1 geventhttpclient-2.3.4 greenlet-3.2.4 grpcio-1.67.1 protobuf-5.29.5 python-rapidjson-1.21 tritonclient-2.60.0 urllib3-2.5.0 zope.event-6.0 zope.interface-8.0.1\n",
      "\n",
      "\u001b[1m[\u001b[0m\u001b[34;49mnotice\u001b[0m\u001b[1;39;49m]\u001b[0m\u001b[39;49m A new release of pip is available: \u001b[0m\u001b[31;49m24.2\u001b[0m\u001b[39;49m -> \u001b[0m\u001b[32;49m25.2\u001b[0m\n",
      "\u001b[1m[\u001b[0m\u001b[34;49mnotice\u001b[0m\u001b[1;39;49m]\u001b[0m\u001b[39;49m To update, run: \u001b[0m\u001b[32;49mpip install --upgrade pip\u001b[0m\n"
     ]
    }
   ],
   "source": [
    "!pip install tritonclient[all]"
   ]
  },
  {
   "cell_type": "code",
   "execution_count": 2,
   "id": "e4cac4a1-ac50-437e-a425-d9a931a9cd51",
   "metadata": {},
   "outputs": [
    {
     "name": "stdout",
     "output_type": "stream",
     "text": [
      "live: True ready: True\n",
      "['pat' 'oston' 'auld' 'homes' 'elle' 'o' 'soy' 'a' 'sf' 'i' 'cad' 'boe'\n",
      " 't' '2' 'ay' 't']\n"
     ]
    }
   ],
   "source": [
    "import numpy as np\n",
    "import tritonclient.http as httpclient\n",
    "from tritonclient.http import InferInput, InferRequestedOutput\n",
    "\n",
    "# --- Config ---\n",
    "ROUTE = \"<CHANGE ME>\"  # host:port (no https://)\n",
    "MODEL = \"ensemble_model\"\n",
    "IMAGE_PATH = \"img1.jpg\"\n",
    "\n",
    "# --- Client (HTTPS via OpenShift Route) ---\n",
    "client = httpclient.InferenceServerClient(url=ROUTE, ssl=True, insecure=True)\n",
    "\n",
    "# (Optional) sanity checks\n",
    "print(\"live:\", client.is_server_live(), \"ready:\", client.is_server_ready())\n",
    "image_data = np.fromfile(\"img1.jpg\", dtype=\"uint8\")\n",
    "image_data = np.expand_dims(image_data, axis=0)\n",
    "\n",
    "input_tensors = [httpclient.InferInput(\"input_image\", image_data.shape, \"UINT8\")]\n",
    "input_tensors[0].set_data_from_numpy(image_data)\n",
    "results = client.infer(model_name=\"ensemble_model\", inputs=input_tensors)\n",
    "output_data = results.as_numpy(\"recognized_text\").astype(str)\n",
    "print(output_data)\n"
   ]
  },
  {
   "cell_type": "code",
   "execution_count": null,
   "id": "9c35314d-7cea-48b6-acc0-542c053382d8",
   "metadata": {},
   "outputs": [],
   "source": []
  },
  {
   "cell_type": "code",
   "execution_count": null,
   "id": "bc61daa6-9451-4a28-bb51-436d87ec56f8",
   "metadata": {},
   "outputs": [],
   "source": []
  }
 ],
 "metadata": {
  "kernelspec": {
   "display_name": "Python 3.11",
   "language": "python",
   "name": "python3"
  },
  "language_info": {
   "codemirror_mode": {
    "name": "ipython",
    "version": 3
   },
   "file_extension": ".py",
   "mimetype": "text/x-python",
   "name": "python",
   "nbconvert_exporter": "python",
   "pygments_lexer": "ipython3",
   "version": "3.11.11"
  }
 },
 "nbformat": 4,
 "nbformat_minor": 5
}
